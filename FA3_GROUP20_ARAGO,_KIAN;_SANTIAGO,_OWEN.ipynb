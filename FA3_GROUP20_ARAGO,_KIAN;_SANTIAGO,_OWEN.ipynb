{
  "nbformat": 4,
  "nbformat_minor": 0,
  "metadata": {
    "colab": {
      "provenance": []
    },
    "kernelspec": {
      "name": "ir",
      "display_name": "R"
    },
    "language_info": {
      "name": "R"
    }
  },
  "cells": [
    {
      "cell_type": "markdown",
      "source": [
        "2.  A binary communication channel carries data as one of two sets of signals denoted by 0 and 1. Owing to noise, a transmitted 0 is sometimes received as a 1, and a transmitted 1 is sometimes received as a 0. For a given channel, it can be assumed that a transmitted 0 is correctly received with probability 0.95, and a transmitted 1 is correctly received with probability 0.75. Also, 70% of all messages are transmitted as a 0. If a signal is sent, determine the probability that:"
      ],
      "metadata": {
        "id": "cWQEnBVLdQc2"
      }
    },
    {
      "cell_type": "markdown",
      "source": [
        "(a) a 1 was received;"
      ],
      "metadata": {
        "id": "PDiGSIqNdbyN"
      }
    },
    {
      "cell_type": "code",
      "source": [
        "P_T0 <- 0.7\n",
        "P_T1 <- 0.3\n",
        "P_R0_given_T0 <- 0.95\n",
        "P_R1_given_T0 <- 1 - P_R0_given_T0\n",
        "P_R1_given_T1 <- 0.75\n",
        "P_R0_given_T1 <- 1 - P_R1_given_T1\n",
        "\n",
        "P_R1 <- (P_R1_given_T0 * P_T0) + (P_R1_given_T1 * P_T1)\n",
        "cat(\"(a) Probability that a 1 was received:\", P_R1, \"\\n\")"
      ],
      "metadata": {
        "colab": {
          "base_uri": "https://localhost:8080/"
        },
        "id": "lM3B4VRPdZuP",
        "outputId": "bf0883fa-b004-4b82-ae28-544f26aeb96f"
      },
      "execution_count": null,
      "outputs": [
        {
          "output_type": "stream",
          "name": "stdout",
          "text": [
            "(a) Probability that a 1 was received: 0.26 \n"
          ]
        }
      ]
    },
    {
      "cell_type": "markdown",
      "source": [
        "(b) a 1 was transmitted given than a 1 was received."
      ],
      "metadata": {
        "id": "CavTJ9SCdaKo"
      }
    },
    {
      "cell_type": "code",
      "source": [
        "P_T1_given_R1 <- (P_R1_given_T1 * P_T1) / P_R1\n",
        "cat(\"(b) Probability that a 1 was transmitted given that a 1 was received:\", P_T1_given_R1, \"\\n\")"
      ],
      "metadata": {
        "colab": {
          "base_uri": "https://localhost:8080/"
        },
        "id": "CZJjGr0KdldN",
        "outputId": "a2763363-dcf3-42ef-9353-717e4d232ce1"
      },
      "execution_count": null,
      "outputs": [
        {
          "output_type": "stream",
          "name": "stdout",
          "text": [
            "(b) Probability that a 1 was transmitted given that a 1 was received: 0.8653846 \n"
          ]
        }
      ]
    },
    {
      "cell_type": "markdown",
      "source": [
        "7.  There are three employees working at an IT company: Jane, Amy, and Ava, doing 10%, 30%, and 60% of the programming, respectively. 8% of Jane’s work, 5% of Amy’s work, and just 1% of Ava‘s work is in error. What is the overall percentage of error? If a program is found with an error, who is the most likely person to have written it?"
      ],
      "metadata": {
        "id": "RFQNe81pkdAG"
      }
    },
    {
      "cell_type": "code",
      "execution_count": null,
      "metadata": {
        "colab": {
          "base_uri": "https://localhost:8080/"
        },
        "id": "icIe132Jj684",
        "outputId": "b78bdc76-fabc-4ede-e2db-05aa844830c1"
      },
      "outputs": [
        {
          "output_type": "stream",
          "name": "stdout",
          "text": [
            "Overall percentage error: 2.9 %\n",
            "Percentage error per person:\n",
            "Jane  Amy  Ava \n",
            " 0.8  1.5  0.6 \n",
            "Person responsible for the error: Amy \n"
          ]
        }
      ],
      "source": [
        "work_done <- c(Jane = 0.10, Amy = 0.30, Ava = 0.60)\n",
        "work_error <- c(Jane = 0.08, Amy = 0.05, Ava = 0.01)\n",
        "\n",
        "error_contributions <- work_done * work_error\n",
        "overall_percentage_error <- sum(error_contributions) * 100\n",
        "\n",
        "cat(\"Overall percentage error:\", overall_percentage_error, \"%\\n\")\n",
        "\n",
        "percentage_errors <- error_contributions * 100\n",
        "names(percentage_errors) <- names(work_done)\n",
        "\n",
        "cat(\"Percentage error per person:\\n\")\n",
        "print(percentage_errors)\n",
        "\n",
        "person_error <- error_contributions / sum(error_contributions)\n",
        "person_responsible <- names(which.max(person_error))\n",
        "\n",
        "cat(\"Person responsible for the error:\", person_responsible, \"\\n\")"
      ]
    }
  ]
}